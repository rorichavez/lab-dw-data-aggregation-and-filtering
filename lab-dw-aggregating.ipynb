{
 "cells": [
  {
   "cell_type": "markdown",
   "id": "31969215-2a90-4d8b-ac36-646a7ae13744",
   "metadata": {
    "id": "31969215-2a90-4d8b-ac36-646a7ae13744"
   },
   "source": [
    "# Lab | Data Aggregation and Filtering"
   ]
  },
  {
   "cell_type": "markdown",
   "id": "a8f08a52-bec0-439b-99cc-11d3809d8b5d",
   "metadata": {
    "id": "a8f08a52-bec0-439b-99cc-11d3809d8b5d"
   },
   "source": [
    "In this challenge, we will continue to work with customer data from an insurance company. We will use the dataset called marketing_customer_analysis.csv, which can be found at the following link:\n",
    "\n",
    "https://raw.githubusercontent.com/data-bootcamp-v4/data/main/marketing_customer_analysis.csv\n",
    "\n",
    "This dataset contains information such as customer demographics, policy details, vehicle information, and the customer's response to the last marketing campaign. Our goal is to explore and analyze this data by first performing data cleaning, formatting, and structuring."
   ]
  },
  {
   "cell_type": "markdown",
   "id": "9c98ddc5-b041-4c94-ada1-4dfee5c98e50",
   "metadata": {
    "id": "9c98ddc5-b041-4c94-ada1-4dfee5c98e50"
   },
   "source": [
    "1. Create a new DataFrame that only includes customers who have a total_claim_amount greater than $1,000 and have a response of \"Yes\" to the last marketing campaign."
   ]
  },
  {
   "cell_type": "markdown",
   "id": "b9be383e-5165-436e-80c8-57d4c757c8c3",
   "metadata": {
    "id": "b9be383e-5165-436e-80c8-57d4c757c8c3"
   },
   "source": [
    "2. Using the original Dataframe, analyze the average total_claim_amount by each policy type and gender for customers who have responded \"Yes\" to the last marketing campaign. Write your conclusions."
   ]
  },
  {
   "cell_type": "markdown",
   "id": "7050f4ac-53c5-4193-a3c0-8699b87196f0",
   "metadata": {
    "id": "7050f4ac-53c5-4193-a3c0-8699b87196f0"
   },
   "source": [
    "3. Analyze the total number of customers who have policies in each state, and then filter the results to only include states where there are more than 500 customers."
   ]
  },
  {
   "cell_type": "markdown",
   "id": "b60a4443-a1a7-4bbf-b78e-9ccdf9895e0d",
   "metadata": {
    "id": "b60a4443-a1a7-4bbf-b78e-9ccdf9895e0d"
   },
   "source": [
    "4. Find the maximum, minimum, and median customer lifetime value by education level and gender. Write your conclusions."
   ]
  },
  {
   "cell_type": "code",
   "execution_count": 11,
   "id": "449513f4-0459-46a0-a18d-9398d974c9ad",
   "metadata": {
    "id": "449513f4-0459-46a0-a18d-9398d974c9ad"
   },
   "outputs": [],
   "source": [
    "import pandas as pd\n",
    "import numpy as np\n",
    "df = pd.read_csv(\"https://raw.githubusercontent.com/data-bootcamp-v4/data/main/marketing_customer_analysis.csv\")"
   ]
  },
  {
   "cell_type": "code",
   "execution_count": 12,
   "id": "e1df8da5-5600-484b-afb8-a09242303600",
   "metadata": {},
   "outputs": [
    {
     "name": "stdout",
     "output_type": "stream",
     "text": [
      "<class 'pandas.core.frame.DataFrame'>\n",
      "RangeIndex: 10910 entries, 0 to 10909\n",
      "Data columns (total 26 columns):\n",
      " #   Column                         Non-Null Count  Dtype  \n",
      "---  ------                         --------------  -----  \n",
      " 0   Unnamed: 0                     10910 non-null  int64  \n",
      " 1   Customer                       10910 non-null  object \n",
      " 2   State                          10279 non-null  object \n",
      " 3   Customer Lifetime Value        10910 non-null  float64\n",
      " 4   Response                       10279 non-null  object \n",
      " 5   Coverage                       10910 non-null  object \n",
      " 6   Education                      10910 non-null  object \n",
      " 7   Effective To Date              10910 non-null  object \n",
      " 8   EmploymentStatus               10910 non-null  object \n",
      " 9   Gender                         10910 non-null  object \n",
      " 10  Income                         10910 non-null  int64  \n",
      " 11  Location Code                  10910 non-null  object \n",
      " 12  Marital Status                 10910 non-null  object \n",
      " 13  Monthly Premium Auto           10910 non-null  int64  \n",
      " 14  Months Since Last Claim        10277 non-null  float64\n",
      " 15  Months Since Policy Inception  10910 non-null  int64  \n",
      " 16  Number of Open Complaints      10277 non-null  float64\n",
      " 17  Number of Policies             10910 non-null  int64  \n",
      " 18  Policy Type                    10910 non-null  object \n",
      " 19  Policy                         10910 non-null  object \n",
      " 20  Renew Offer Type               10910 non-null  object \n",
      " 21  Sales Channel                  10910 non-null  object \n",
      " 22  Total Claim Amount             10910 non-null  float64\n",
      " 23  Vehicle Class                  10288 non-null  object \n",
      " 24  Vehicle Size                   10288 non-null  object \n",
      " 25  Vehicle Type                   5428 non-null   object \n",
      "dtypes: float64(4), int64(5), object(17)\n",
      "memory usage: 2.2+ MB\n"
     ]
    }
   ],
   "source": [
    "df.info()"
   ]
  },
  {
   "cell_type": "code",
   "execution_count": 13,
   "id": "7da6f0bd-0d3e-49a2-81ee-b0fc3c123f30",
   "metadata": {},
   "outputs": [],
   "source": [
    "# Changing all colums to lowercase since is easier to work.\n",
    "df.columns = df.columns.str.lower()\n",
    "\n",
    "# Changing all colums to the same format.\n",
    "df.rename(columns={'EmploymentStatus': 'Employment Status'}, inplace=True)"
   ]
  },
  {
   "cell_type": "code",
   "execution_count": 14,
   "id": "c16af20b-b945-45ed-8266-611bad54fef8",
   "metadata": {},
   "outputs": [],
   "source": [
    "# Deleting this column because it wasn't necessary, we already have a automatic numerical column.\n",
    "df = df.drop(columns='unnamed: 0')"
   ]
  },
  {
   "cell_type": "code",
   "execution_count": 15,
   "id": "487436c2-2bd6-4cbd-9b74-477022a404d6",
   "metadata": {},
   "outputs": [
    {
     "data": {
      "text/plain": [
       "(10910, 25)"
      ]
     },
     "execution_count": 15,
     "metadata": {},
     "output_type": "execute_result"
    }
   ],
   "source": [
    "df.shape"
   ]
  },
  {
   "cell_type": "code",
   "execution_count": 16,
   "id": "2716a91a-a658-4f59-9a69-cd7148db069d",
   "metadata": {},
   "outputs": [],
   "source": [
    "#Delete duplicates rows\n",
    "df_drop_duplicates = df.drop_duplicates()\n",
    "df = df_drop_duplicates.copy() # Save it "
   ]
  },
  {
   "cell_type": "code",
   "execution_count": 17,
   "id": "5c0d4c11-b5c9-41d6-baa6-88842d69e130",
   "metadata": {},
   "outputs": [
    {
     "data": {
      "text/plain": [
       "0        False\n",
       "1        False\n",
       "2        False\n",
       "3        False\n",
       "4        False\n",
       "         ...  \n",
       "10905    False\n",
       "10906    False\n",
       "10907    False\n",
       "10908    False\n",
       "10909    False\n",
       "Length: 10873, dtype: bool"
      ]
     },
     "execution_count": 17,
     "metadata": {},
     "output_type": "execute_result"
    }
   ],
   "source": [
    "# Check for duplicates after cleaning\n",
    "duplicated_rows_after_cleaning = df.duplicated()\n",
    "duplicated_rows_after_cleaning"
   ]
  },
  {
   "cell_type": "code",
   "execution_count": 18,
   "id": "f17c4c03-4896-40bd-b62c-5f161a213be0",
   "metadata": {},
   "outputs": [
    {
     "data": {
      "text/plain": [
       "(10873, 25)"
      ]
     },
     "execution_count": 18,
     "metadata": {},
     "output_type": "execute_result"
    }
   ],
   "source": [
    "df.shape # To see more cleary how many we have left "
   ]
  },
  {
   "cell_type": "code",
   "execution_count": 19,
   "id": "78cbeddf-cb90-4178-ad7f-614f52dfb8f3",
   "metadata": {},
   "outputs": [
    {
     "name": "stdout",
     "output_type": "stream",
     "text": [
      "customer                            0\n",
      "state                             614\n",
      "customer lifetime value             0\n",
      "response                          614\n",
      "coverage                            0\n",
      "education                           0\n",
      "effective to date                   0\n",
      "employmentstatus                    0\n",
      "gender                              0\n",
      "income                              0\n",
      "location code                       0\n",
      "marital status                      0\n",
      "monthly premium auto                0\n",
      "months since last claim           623\n",
      "months since policy inception       0\n",
      "number of open complaints         623\n",
      "number of policies                  0\n",
      "policy type                         0\n",
      "policy                              0\n",
      "renew offer type                    0\n",
      "sales channel                       0\n",
      "total claim amount                  0\n",
      "vehicle class                     608\n",
      "vehicle size                      608\n",
      "vehicle type                     5465\n",
      "dtype: int64\n"
     ]
    }
   ],
   "source": [
    "num_nans = df.isna().sum() # Check how many nulls values do we have.\n",
    "print(num_nans)"
   ]
  },
  {
   "cell_type": "markdown",
   "id": "45305e6c-0227-4ccf-8d1d-84ced82c5d95",
   "metadata": {},
   "source": [
    "`1. Create a new DataFrame that only includes customers who have a total_claim_amount greater than $1,000 and have a response of \"Yes\" to the last marketing campaign.`"
   ]
  },
  {
   "cell_type": "code",
   "execution_count": 22,
   "id": "7a3f2a06-7e47-4b75-9881-f2e743830122",
   "metadata": {},
   "outputs": [],
   "source": [
    "filtered_df = df[(df['total claim amount'] > 1000) & (df['response'] == 'Yes')]"
   ]
  },
  {
   "cell_type": "code",
   "execution_count": 23,
   "id": "b1258806-ecea-4394-b603-6219a2753a2f",
   "metadata": {},
   "outputs": [
    {
     "data": {
      "text/html": [
       "<div>\n",
       "<style scoped>\n",
       "    .dataframe tbody tr th:only-of-type {\n",
       "        vertical-align: middle;\n",
       "    }\n",
       "\n",
       "    .dataframe tbody tr th {\n",
       "        vertical-align: top;\n",
       "    }\n",
       "\n",
       "    .dataframe thead th {\n",
       "        text-align: right;\n",
       "    }\n",
       "</style>\n",
       "<table border=\"1\" class=\"dataframe\">\n",
       "  <thead>\n",
       "    <tr style=\"text-align: right;\">\n",
       "      <th></th>\n",
       "      <th>customer</th>\n",
       "      <th>state</th>\n",
       "      <th>customer lifetime value</th>\n",
       "      <th>response</th>\n",
       "      <th>coverage</th>\n",
       "      <th>education</th>\n",
       "      <th>effective to date</th>\n",
       "      <th>employmentstatus</th>\n",
       "      <th>gender</th>\n",
       "      <th>income</th>\n",
       "      <th>...</th>\n",
       "      <th>number of open complaints</th>\n",
       "      <th>number of policies</th>\n",
       "      <th>policy type</th>\n",
       "      <th>policy</th>\n",
       "      <th>renew offer type</th>\n",
       "      <th>sales channel</th>\n",
       "      <th>total claim amount</th>\n",
       "      <th>vehicle class</th>\n",
       "      <th>vehicle size</th>\n",
       "      <th>vehicle type</th>\n",
       "    </tr>\n",
       "  </thead>\n",
       "  <tbody>\n",
       "    <tr>\n",
       "      <th>189</th>\n",
       "      <td>OK31456</td>\n",
       "      <td>California</td>\n",
       "      <td>11009.130490</td>\n",
       "      <td>Yes</td>\n",
       "      <td>Premium</td>\n",
       "      <td>Bachelor</td>\n",
       "      <td>1/24/11</td>\n",
       "      <td>Employed</td>\n",
       "      <td>F</td>\n",
       "      <td>51643</td>\n",
       "      <td>...</td>\n",
       "      <td>0.0</td>\n",
       "      <td>1</td>\n",
       "      <td>Corporate Auto</td>\n",
       "      <td>Corporate L3</td>\n",
       "      <td>Offer2</td>\n",
       "      <td>Agent</td>\n",
       "      <td>1358.400000</td>\n",
       "      <td>Luxury Car</td>\n",
       "      <td>Medsize</td>\n",
       "      <td>NaN</td>\n",
       "    </tr>\n",
       "    <tr>\n",
       "      <th>236</th>\n",
       "      <td>YJ16163</td>\n",
       "      <td>Oregon</td>\n",
       "      <td>11009.130490</td>\n",
       "      <td>Yes</td>\n",
       "      <td>Premium</td>\n",
       "      <td>Bachelor</td>\n",
       "      <td>1/24/11</td>\n",
       "      <td>Employed</td>\n",
       "      <td>F</td>\n",
       "      <td>51643</td>\n",
       "      <td>...</td>\n",
       "      <td>0.0</td>\n",
       "      <td>1</td>\n",
       "      <td>Special Auto</td>\n",
       "      <td>Special L3</td>\n",
       "      <td>Offer2</td>\n",
       "      <td>Agent</td>\n",
       "      <td>1358.400000</td>\n",
       "      <td>Luxury Car</td>\n",
       "      <td>Medsize</td>\n",
       "      <td>A</td>\n",
       "    </tr>\n",
       "    <tr>\n",
       "      <th>419</th>\n",
       "      <td>GW43195</td>\n",
       "      <td>Oregon</td>\n",
       "      <td>25807.063000</td>\n",
       "      <td>Yes</td>\n",
       "      <td>Extended</td>\n",
       "      <td>College</td>\n",
       "      <td>2/13/11</td>\n",
       "      <td>Employed</td>\n",
       "      <td>F</td>\n",
       "      <td>71210</td>\n",
       "      <td>...</td>\n",
       "      <td>1.0</td>\n",
       "      <td>2</td>\n",
       "      <td>Personal Auto</td>\n",
       "      <td>Personal L2</td>\n",
       "      <td>Offer1</td>\n",
       "      <td>Branch</td>\n",
       "      <td>1027.200000</td>\n",
       "      <td>Luxury Car</td>\n",
       "      <td>Small</td>\n",
       "      <td>A</td>\n",
       "    </tr>\n",
       "    <tr>\n",
       "      <th>442</th>\n",
       "      <td>IP94270</td>\n",
       "      <td>Arizona</td>\n",
       "      <td>13736.132500</td>\n",
       "      <td>Yes</td>\n",
       "      <td>Premium</td>\n",
       "      <td>Master</td>\n",
       "      <td>2/13/11</td>\n",
       "      <td>Disabled</td>\n",
       "      <td>F</td>\n",
       "      <td>16181</td>\n",
       "      <td>...</td>\n",
       "      <td>0.0</td>\n",
       "      <td>8</td>\n",
       "      <td>Personal Auto</td>\n",
       "      <td>Personal L2</td>\n",
       "      <td>Offer1</td>\n",
       "      <td>Web</td>\n",
       "      <td>1261.319869</td>\n",
       "      <td>SUV</td>\n",
       "      <td>Medsize</td>\n",
       "      <td>A</td>\n",
       "    </tr>\n",
       "    <tr>\n",
       "      <th>587</th>\n",
       "      <td>FJ28407</td>\n",
       "      <td>California</td>\n",
       "      <td>5619.689084</td>\n",
       "      <td>Yes</td>\n",
       "      <td>Premium</td>\n",
       "      <td>High School or Below</td>\n",
       "      <td>1/26/11</td>\n",
       "      <td>Unemployed</td>\n",
       "      <td>M</td>\n",
       "      <td>0</td>\n",
       "      <td>...</td>\n",
       "      <td>0.0</td>\n",
       "      <td>1</td>\n",
       "      <td>Personal Auto</td>\n",
       "      <td>Personal L1</td>\n",
       "      <td>Offer2</td>\n",
       "      <td>Web</td>\n",
       "      <td>1027.000029</td>\n",
       "      <td>SUV</td>\n",
       "      <td>Medsize</td>\n",
       "      <td>A</td>\n",
       "    </tr>\n",
       "    <tr>\n",
       "      <th>...</th>\n",
       "      <td>...</td>\n",
       "      <td>...</td>\n",
       "      <td>...</td>\n",
       "      <td>...</td>\n",
       "      <td>...</td>\n",
       "      <td>...</td>\n",
       "      <td>...</td>\n",
       "      <td>...</td>\n",
       "      <td>...</td>\n",
       "      <td>...</td>\n",
       "      <td>...</td>\n",
       "      <td>...</td>\n",
       "      <td>...</td>\n",
       "      <td>...</td>\n",
       "      <td>...</td>\n",
       "      <td>...</td>\n",
       "      <td>...</td>\n",
       "      <td>...</td>\n",
       "      <td>...</td>\n",
       "      <td>...</td>\n",
       "      <td>...</td>\n",
       "    </tr>\n",
       "    <tr>\n",
       "      <th>10351</th>\n",
       "      <td>FN44127</td>\n",
       "      <td>Oregon</td>\n",
       "      <td>3508.569533</td>\n",
       "      <td>Yes</td>\n",
       "      <td>Extended</td>\n",
       "      <td>College</td>\n",
       "      <td>1/5/11</td>\n",
       "      <td>Medical Leave</td>\n",
       "      <td>M</td>\n",
       "      <td>20978</td>\n",
       "      <td>...</td>\n",
       "      <td>1.0</td>\n",
       "      <td>1</td>\n",
       "      <td>Personal Auto</td>\n",
       "      <td>Personal L2</td>\n",
       "      <td>Offer2</td>\n",
       "      <td>Branch</td>\n",
       "      <td>1176.278800</td>\n",
       "      <td>Four-Door Car</td>\n",
       "      <td>Small</td>\n",
       "      <td>NaN</td>\n",
       "    </tr>\n",
       "    <tr>\n",
       "      <th>10373</th>\n",
       "      <td>XZ64172</td>\n",
       "      <td>Oregon</td>\n",
       "      <td>10963.957230</td>\n",
       "      <td>Yes</td>\n",
       "      <td>Premium</td>\n",
       "      <td>High School or Below</td>\n",
       "      <td>2/8/11</td>\n",
       "      <td>Employed</td>\n",
       "      <td>M</td>\n",
       "      <td>55687</td>\n",
       "      <td>...</td>\n",
       "      <td>0.0</td>\n",
       "      <td>1</td>\n",
       "      <td>Corporate Auto</td>\n",
       "      <td>Corporate L2</td>\n",
       "      <td>Offer1</td>\n",
       "      <td>Agent</td>\n",
       "      <td>1324.800000</td>\n",
       "      <td>Luxury SUV</td>\n",
       "      <td>Medsize</td>\n",
       "      <td>NaN</td>\n",
       "    </tr>\n",
       "    <tr>\n",
       "      <th>10487</th>\n",
       "      <td>IX60941</td>\n",
       "      <td>Oregon</td>\n",
       "      <td>3508.569533</td>\n",
       "      <td>Yes</td>\n",
       "      <td>Extended</td>\n",
       "      <td>College</td>\n",
       "      <td>1/5/11</td>\n",
       "      <td>Medical Leave</td>\n",
       "      <td>M</td>\n",
       "      <td>20978</td>\n",
       "      <td>...</td>\n",
       "      <td>1.0</td>\n",
       "      <td>1</td>\n",
       "      <td>Personal Auto</td>\n",
       "      <td>Personal L3</td>\n",
       "      <td>Offer2</td>\n",
       "      <td>Branch</td>\n",
       "      <td>1176.278800</td>\n",
       "      <td>Four-Door Car</td>\n",
       "      <td>Small</td>\n",
       "      <td>NaN</td>\n",
       "    </tr>\n",
       "    <tr>\n",
       "      <th>10565</th>\n",
       "      <td>QO62792</td>\n",
       "      <td>Oregon</td>\n",
       "      <td>7840.165778</td>\n",
       "      <td>Yes</td>\n",
       "      <td>Extended</td>\n",
       "      <td>College</td>\n",
       "      <td>1/14/11</td>\n",
       "      <td>Employed</td>\n",
       "      <td>M</td>\n",
       "      <td>58414</td>\n",
       "      <td>...</td>\n",
       "      <td>2.0</td>\n",
       "      <td>1</td>\n",
       "      <td>Personal Auto</td>\n",
       "      <td>Personal L3</td>\n",
       "      <td>Offer2</td>\n",
       "      <td>Agent</td>\n",
       "      <td>1008.000000</td>\n",
       "      <td>NaN</td>\n",
       "      <td>NaN</td>\n",
       "      <td>NaN</td>\n",
       "    </tr>\n",
       "    <tr>\n",
       "      <th>10708</th>\n",
       "      <td>CK39096</td>\n",
       "      <td>Oregon</td>\n",
       "      <td>5619.689084</td>\n",
       "      <td>Yes</td>\n",
       "      <td>Premium</td>\n",
       "      <td>High School or Below</td>\n",
       "      <td>1/26/11</td>\n",
       "      <td>Unemployed</td>\n",
       "      <td>M</td>\n",
       "      <td>0</td>\n",
       "      <td>...</td>\n",
       "      <td>0.0</td>\n",
       "      <td>1</td>\n",
       "      <td>Personal Auto</td>\n",
       "      <td>Personal L3</td>\n",
       "      <td>Offer2</td>\n",
       "      <td>Web</td>\n",
       "      <td>1027.000029</td>\n",
       "      <td>SUV</td>\n",
       "      <td>Medsize</td>\n",
       "      <td>A</td>\n",
       "    </tr>\n",
       "  </tbody>\n",
       "</table>\n",
       "<p>67 rows × 25 columns</p>\n",
       "</div>"
      ],
      "text/plain": [
       "      customer       state  customer lifetime value response  coverage  \\\n",
       "189    OK31456  California             11009.130490      Yes   Premium   \n",
       "236    YJ16163      Oregon             11009.130490      Yes   Premium   \n",
       "419    GW43195      Oregon             25807.063000      Yes  Extended   \n",
       "442    IP94270     Arizona             13736.132500      Yes   Premium   \n",
       "587    FJ28407  California              5619.689084      Yes   Premium   \n",
       "...        ...         ...                      ...      ...       ...   \n",
       "10351  FN44127      Oregon              3508.569533      Yes  Extended   \n",
       "10373  XZ64172      Oregon             10963.957230      Yes   Premium   \n",
       "10487  IX60941      Oregon              3508.569533      Yes  Extended   \n",
       "10565  QO62792      Oregon              7840.165778      Yes  Extended   \n",
       "10708  CK39096      Oregon              5619.689084      Yes   Premium   \n",
       "\n",
       "                  education effective to date employmentstatus gender  income  \\\n",
       "189                Bachelor           1/24/11         Employed      F   51643   \n",
       "236                Bachelor           1/24/11         Employed      F   51643   \n",
       "419                 College           2/13/11         Employed      F   71210   \n",
       "442                  Master           2/13/11         Disabled      F   16181   \n",
       "587    High School or Below           1/26/11       Unemployed      M       0   \n",
       "...                     ...               ...              ...    ...     ...   \n",
       "10351               College            1/5/11    Medical Leave      M   20978   \n",
       "10373  High School or Below            2/8/11         Employed      M   55687   \n",
       "10487               College            1/5/11    Medical Leave      M   20978   \n",
       "10565               College           1/14/11         Employed      M   58414   \n",
       "10708  High School or Below           1/26/11       Unemployed      M       0   \n",
       "\n",
       "       ... number of open complaints number of policies     policy type  \\\n",
       "189    ...                       0.0                  1  Corporate Auto   \n",
       "236    ...                       0.0                  1    Special Auto   \n",
       "419    ...                       1.0                  2   Personal Auto   \n",
       "442    ...                       0.0                  8   Personal Auto   \n",
       "587    ...                       0.0                  1   Personal Auto   \n",
       "...    ...                       ...                ...             ...   \n",
       "10351  ...                       1.0                  1   Personal Auto   \n",
       "10373  ...                       0.0                  1  Corporate Auto   \n",
       "10487  ...                       1.0                  1   Personal Auto   \n",
       "10565  ...                       2.0                  1   Personal Auto   \n",
       "10708  ...                       0.0                  1   Personal Auto   \n",
       "\n",
       "             policy  renew offer type  sales channel  total claim amount  \\\n",
       "189    Corporate L3            Offer2          Agent         1358.400000   \n",
       "236      Special L3            Offer2          Agent         1358.400000   \n",
       "419     Personal L2            Offer1         Branch         1027.200000   \n",
       "442     Personal L2            Offer1            Web         1261.319869   \n",
       "587     Personal L1            Offer2            Web         1027.000029   \n",
       "...             ...               ...            ...                 ...   \n",
       "10351   Personal L2            Offer2         Branch         1176.278800   \n",
       "10373  Corporate L2            Offer1          Agent         1324.800000   \n",
       "10487   Personal L3            Offer2         Branch         1176.278800   \n",
       "10565   Personal L3            Offer2          Agent         1008.000000   \n",
       "10708   Personal L3            Offer2            Web         1027.000029   \n",
       "\n",
       "       vehicle class vehicle size vehicle type  \n",
       "189       Luxury Car      Medsize          NaN  \n",
       "236       Luxury Car      Medsize            A  \n",
       "419       Luxury Car        Small            A  \n",
       "442              SUV      Medsize            A  \n",
       "587              SUV      Medsize            A  \n",
       "...              ...          ...          ...  \n",
       "10351  Four-Door Car        Small          NaN  \n",
       "10373     Luxury SUV      Medsize          NaN  \n",
       "10487  Four-Door Car        Small          NaN  \n",
       "10565            NaN          NaN          NaN  \n",
       "10708            SUV      Medsize            A  \n",
       "\n",
       "[67 rows x 25 columns]"
      ]
     },
     "execution_count": 23,
     "metadata": {},
     "output_type": "execute_result"
    }
   ],
   "source": [
    "filtered_df"
   ]
  },
  {
   "cell_type": "code",
   "execution_count": 21,
   "id": "e5ea3ea9-9ea3-40b2-b825-7feae6187b73",
   "metadata": {},
   "outputs": [
    {
     "name": "stdout",
     "output_type": "stream",
     "text": [
      "<class 'pandas.core.frame.DataFrame'>\n",
      "Index: 67 entries, 189 to 10708\n",
      "Data columns (total 25 columns):\n",
      " #   Column                         Non-Null Count  Dtype  \n",
      "---  ------                         --------------  -----  \n",
      " 0   customer                       67 non-null     object \n",
      " 1   state                          67 non-null     object \n",
      " 2   customer lifetime value        67 non-null     float64\n",
      " 3   response                       67 non-null     object \n",
      " 4   coverage                       67 non-null     object \n",
      " 5   education                      67 non-null     object \n",
      " 6   effective to date              67 non-null     object \n",
      " 7   employmentstatus               67 non-null     object \n",
      " 8   gender                         67 non-null     object \n",
      " 9   income                         67 non-null     int64  \n",
      " 10  location code                  67 non-null     object \n",
      " 11  marital status                 67 non-null     object \n",
      " 12  monthly premium auto           67 non-null     int64  \n",
      " 13  months since last claim        64 non-null     float64\n",
      " 14  months since policy inception  67 non-null     int64  \n",
      " 15  number of open complaints      64 non-null     float64\n",
      " 16  number of policies             67 non-null     int64  \n",
      " 17  policy type                    67 non-null     object \n",
      " 18  policy                         67 non-null     object \n",
      " 19  renew offer type               67 non-null     object \n",
      " 20  sales channel                  67 non-null     object \n",
      " 21  total claim amount             67 non-null     float64\n",
      " 22  vehicle class                  63 non-null     object \n",
      " 23  vehicle size                   63 non-null     object \n",
      " 24  vehicle type                   32 non-null     object \n",
      "dtypes: float64(4), int64(4), object(17)\n",
      "memory usage: 13.6+ KB\n"
     ]
    }
   ],
   "source": [
    "filtered_df.info()"
   ]
  },
  {
   "cell_type": "markdown",
   "id": "4cd5a93d-741f-4d15-bed8-d5aa382a9db3",
   "metadata": {},
   "source": [
    "`2.Using the original Dataframe, analyze the average total_claim_amount by each policy type and gender for customers who have responded \"Yes\" to the last marketing campaign.`"
   ]
  },
  {
   "cell_type": "code",
   "execution_count": 24,
   "id": "dc520ef0-235d-4086-a3fa-2a772e47a1c5",
   "metadata": {},
   "outputs": [
    {
     "data": {
      "text/html": [
       "<div>\n",
       "<style scoped>\n",
       "    .dataframe tbody tr th:only-of-type {\n",
       "        vertical-align: middle;\n",
       "    }\n",
       "\n",
       "    .dataframe tbody tr th {\n",
       "        vertical-align: top;\n",
       "    }\n",
       "\n",
       "    .dataframe thead th {\n",
       "        text-align: right;\n",
       "    }\n",
       "</style>\n",
       "<table border=\"1\" class=\"dataframe\">\n",
       "  <thead>\n",
       "    <tr style=\"text-align: right;\">\n",
       "      <th></th>\n",
       "      <th></th>\n",
       "      <th>total claim amount</th>\n",
       "    </tr>\n",
       "    <tr>\n",
       "      <th>policy type</th>\n",
       "      <th>gender</th>\n",
       "      <th></th>\n",
       "    </tr>\n",
       "  </thead>\n",
       "  <tbody>\n",
       "    <tr>\n",
       "      <th rowspan=\"2\" valign=\"top\">Corporate Auto</th>\n",
       "      <th>F</th>\n",
       "      <td>433.74</td>\n",
       "    </tr>\n",
       "    <tr>\n",
       "      <th>M</th>\n",
       "      <td>407.83</td>\n",
       "    </tr>\n",
       "    <tr>\n",
       "      <th rowspan=\"2\" valign=\"top\">Personal Auto</th>\n",
       "      <th>F</th>\n",
       "      <td>452.76</td>\n",
       "    </tr>\n",
       "    <tr>\n",
       "      <th>M</th>\n",
       "      <td>457.01</td>\n",
       "    </tr>\n",
       "    <tr>\n",
       "      <th rowspan=\"2\" valign=\"top\">Special Auto</th>\n",
       "      <th>F</th>\n",
       "      <td>453.28</td>\n",
       "    </tr>\n",
       "    <tr>\n",
       "      <th>M</th>\n",
       "      <td>429.53</td>\n",
       "    </tr>\n",
       "  </tbody>\n",
       "</table>\n",
       "</div>"
      ],
      "text/plain": [
       "                       total claim amount\n",
       "policy type    gender                    \n",
       "Corporate Auto F                   433.74\n",
       "               M                   407.83\n",
       "Personal Auto  F                   452.76\n",
       "               M                   457.01\n",
       "Special Auto   F                   453.28\n",
       "               M                   429.53"
      ]
     },
     "execution_count": 24,
     "metadata": {},
     "output_type": "execute_result"
    }
   ],
   "source": [
    "# Group by policy type and gender, then calculate the average total_claim_amount\n",
    "avg_claim_amount = df[df['response'] == 'Yes'].groupby(['policy type', 'gender'])[['total claim amount']].mean().round(2)\n",
    "avg_claim_amount\n"
   ]
  },
  {
   "cell_type": "markdown",
   "id": "db6ac740-29cc-4153-96c0-9aa395ff46b4",
   "metadata": {},
   "source": [
    "**Write your conclusions.**\n",
    "\n",
    "After analyzing the data grouped by policy type and gender, it's evident that there are variations in the average total claim amount across different policy types and genders.\n",
    "\n",
    "For Corporate Auto policies, females have an average total claim amount of 433.74, while males have a slightly lower average of 407.83. This indicates that, on average, female policyholders in the Corporate Auto category tend to file claims for higher amounts compared to male policyholders.\n",
    "\n",
    "In the Personal Auto category, the situation is reversed, with females having a slightly higher average total claim amount of 452.76 compared to males with an average of 457.01. However, the difference in averages is minimal in this case.\n",
    "\n",
    "Lastly, in the Special Auto category, females have an average total claim amount of 453.28, which is slightly higher than the average for males at 429.53.\n",
    "\n",
    "In conclusion, while there are some variations in the average total claim amounts across different policy types and genders, the differences are not substantial. However, these insights can still be valuable for insurance companies to understand their claims patterns and potentially tailor their services or pricing strategies accordingly.\n"
   ]
  },
  {
   "cell_type": "markdown",
   "id": "b2635db2-25ac-460e-9364-0c424e951959",
   "metadata": {},
   "source": [
    "`3.Analyze the total number of customers who have policies in each state, and then filter the results to only \n",
    "include states where there are more than 500 customers.`\n"
   ]
  },
  {
   "cell_type": "code",
   "execution_count": 25,
   "id": "0b3a8344-1231-41c1-9be3-83dc8fd44205",
   "metadata": {},
   "outputs": [
    {
     "data": {
      "text/html": [
       "<div>\n",
       "<style scoped>\n",
       "    .dataframe tbody tr th:only-of-type {\n",
       "        vertical-align: middle;\n",
       "    }\n",
       "\n",
       "    .dataframe tbody tr th {\n",
       "        vertical-align: top;\n",
       "    }\n",
       "\n",
       "    .dataframe thead th {\n",
       "        text-align: right;\n",
       "    }\n",
       "</style>\n",
       "<table border=\"1\" class=\"dataframe\">\n",
       "  <thead>\n",
       "    <tr style=\"text-align: right;\">\n",
       "      <th></th>\n",
       "      <th>policy</th>\n",
       "    </tr>\n",
       "    <tr>\n",
       "      <th>state</th>\n",
       "      <th></th>\n",
       "    </tr>\n",
       "  </thead>\n",
       "  <tbody>\n",
       "    <tr>\n",
       "      <th>Arizona</th>\n",
       "      <td>1934</td>\n",
       "    </tr>\n",
       "    <tr>\n",
       "      <th>California</th>\n",
       "      <td>3548</td>\n",
       "    </tr>\n",
       "    <tr>\n",
       "      <th>Nevada</th>\n",
       "      <td>992</td>\n",
       "    </tr>\n",
       "    <tr>\n",
       "      <th>Oregon</th>\n",
       "      <td>2897</td>\n",
       "    </tr>\n",
       "    <tr>\n",
       "      <th>Washington</th>\n",
       "      <td>888</td>\n",
       "    </tr>\n",
       "  </tbody>\n",
       "</table>\n",
       "</div>"
      ],
      "text/plain": [
       "            policy\n",
       "state             \n",
       "Arizona       1934\n",
       "California    3548\n",
       "Nevada         992\n",
       "Oregon        2897\n",
       "Washington     888"
      ]
     },
     "execution_count": 25,
     "metadata": {},
     "output_type": "execute_result"
    }
   ],
   "source": [
    "policy_state = df.groupby('state')[['policy']].count()\n",
    "policy_state"
   ]
  },
  {
   "cell_type": "code",
   "execution_count": 26,
   "id": "cc4a7f81-89e8-4ccb-aef4-c53c0a999aa8",
   "metadata": {},
   "outputs": [],
   "source": [
    "# They all have more than 500 customers. \n",
    "\n",
    "#states_over_500 = policy_state[policy_state > 500]"
   ]
  },
  {
   "cell_type": "markdown",
   "id": "a75fb439-f145-4814-b734-7ca90c555602",
   "metadata": {},
   "source": [
    "`4. Find the maximum, minimum, and median customer lifetime value by education level and gender. Write your conclusions.`"
   ]
  },
  {
   "cell_type": "code",
   "execution_count": 27,
   "id": "63f824f9-9982-45c9-8243-8ddfa37fbf13",
   "metadata": {},
   "outputs": [
    {
     "data": {
      "text/html": [
       "<div>\n",
       "<style scoped>\n",
       "    .dataframe tbody tr th:only-of-type {\n",
       "        vertical-align: middle;\n",
       "    }\n",
       "\n",
       "    .dataframe tbody tr th {\n",
       "        vertical-align: top;\n",
       "    }\n",
       "\n",
       "    .dataframe thead th {\n",
       "        text-align: right;\n",
       "    }\n",
       "</style>\n",
       "<table border=\"1\" class=\"dataframe\">\n",
       "  <thead>\n",
       "    <tr style=\"text-align: right;\">\n",
       "      <th></th>\n",
       "      <th></th>\n",
       "      <th>max</th>\n",
       "      <th>min</th>\n",
       "      <th>median</th>\n",
       "    </tr>\n",
       "    <tr>\n",
       "      <th>education</th>\n",
       "      <th>gender</th>\n",
       "      <th></th>\n",
       "      <th></th>\n",
       "      <th></th>\n",
       "    </tr>\n",
       "  </thead>\n",
       "  <tbody>\n",
       "    <tr>\n",
       "      <th rowspan=\"2\" valign=\"top\">Bachelor</th>\n",
       "      <th>F</th>\n",
       "      <td>73225.96</td>\n",
       "      <td>1904.00</td>\n",
       "      <td>5632.61</td>\n",
       "    </tr>\n",
       "    <tr>\n",
       "      <th>M</th>\n",
       "      <td>67907.27</td>\n",
       "      <td>1898.01</td>\n",
       "      <td>5548.03</td>\n",
       "    </tr>\n",
       "    <tr>\n",
       "      <th rowspan=\"2\" valign=\"top\">College</th>\n",
       "      <th>F</th>\n",
       "      <td>61850.19</td>\n",
       "      <td>1898.68</td>\n",
       "      <td>5623.61</td>\n",
       "    </tr>\n",
       "    <tr>\n",
       "      <th>M</th>\n",
       "      <td>61134.68</td>\n",
       "      <td>1918.12</td>\n",
       "      <td>6005.85</td>\n",
       "    </tr>\n",
       "    <tr>\n",
       "      <th rowspan=\"2\" valign=\"top\">Doctor</th>\n",
       "      <th>F</th>\n",
       "      <td>44856.11</td>\n",
       "      <td>2395.57</td>\n",
       "      <td>5332.46</td>\n",
       "    </tr>\n",
       "    <tr>\n",
       "      <th>M</th>\n",
       "      <td>32677.34</td>\n",
       "      <td>2267.60</td>\n",
       "      <td>5577.67</td>\n",
       "    </tr>\n",
       "    <tr>\n",
       "      <th rowspan=\"2\" valign=\"top\">High School or Below</th>\n",
       "      <th>F</th>\n",
       "      <td>55277.45</td>\n",
       "      <td>2144.92</td>\n",
       "      <td>6035.09</td>\n",
       "    </tr>\n",
       "    <tr>\n",
       "      <th>M</th>\n",
       "      <td>83325.38</td>\n",
       "      <td>1940.98</td>\n",
       "      <td>6286.73</td>\n",
       "    </tr>\n",
       "    <tr>\n",
       "      <th rowspan=\"2\" valign=\"top\">Master</th>\n",
       "      <th>F</th>\n",
       "      <td>51016.07</td>\n",
       "      <td>2417.78</td>\n",
       "      <td>5729.86</td>\n",
       "    </tr>\n",
       "    <tr>\n",
       "      <th>M</th>\n",
       "      <td>50568.26</td>\n",
       "      <td>2272.31</td>\n",
       "      <td>5579.10</td>\n",
       "    </tr>\n",
       "  </tbody>\n",
       "</table>\n",
       "</div>"
      ],
      "text/plain": [
       "                                  max      min   median\n",
       "education            gender                            \n",
       "Bachelor             F       73225.96  1904.00  5632.61\n",
       "                     M       67907.27  1898.01  5548.03\n",
       "College              F       61850.19  1898.68  5623.61\n",
       "                     M       61134.68  1918.12  6005.85\n",
       "Doctor               F       44856.11  2395.57  5332.46\n",
       "                     M       32677.34  2267.60  5577.67\n",
       "High School or Below F       55277.45  2144.92  6035.09\n",
       "                     M       83325.38  1940.98  6286.73\n",
       "Master               F       51016.07  2417.78  5729.86\n",
       "                     M       50568.26  2272.31  5579.10"
      ]
     },
     "execution_count": 27,
     "metadata": {},
     "output_type": "execute_result"
    }
   ],
   "source": [
    "stats_by_education_gender = df.groupby(['education', 'gender'])['customer lifetime value'].agg(['max', 'min', 'median']).round(2)\n",
    "stats_by_education_gender"
   ]
  },
  {
   "cell_type": "markdown",
   "id": "a0c62852-967c-410b-b65d-a2ca7ac5b407",
   "metadata": {},
   "source": [
    "**Conclusions**\n",
    "\n",
    "Upon analyzing the data on income grouped by education level and gender, several observations can be made regarding the maximum, minimum, and median income values.\n",
    "\n",
    "For individuals with a Bachelor's degree, the maximum income is highest for males at 67,907.27, whereas females have a maximum income of 73,225.96. However, both genders have similar minimum and median incomes, suggesting a relatively balanced distribution of income within this education level.\n",
    "\n",
    "Similarly, individuals with a College degree also exhibit a balanced distribution of income between genders, with slightly higher maximum income for females compared to males. However, the differences in minimum and median income between genders are minimal.\n",
    "\n",
    "For those with a Doctorate degree, females have a higher maximum income compared to males, but the median income for both genders is relatively close. The minimum income for males is lower compared to females, indicating potential disparities in income distribution within this education level.\n",
    "\n",
    "Individuals with a High School diploma or below demonstrate significant differences in income distribution between genders. Males have notably higher maximum income compared to females, indicating potential gender disparities in earnings within this education category. Additionally, the median income for males is higher than for females, further highlighting income inequalities.\n",
    "\n",
    "Lastly, individuals with a Master's degree exhibit relatively similar income distributions between genders, with minor differences in maximum and median income values. However, males have a slightly lower minimum income compared to females within this education level.\n",
    "\n",
    "In conclusion, while there are variations in income distribution across different education levels and genders, disparities are more pronounced among individuals with lower levels of education, particularly in the High School or Below category. These findings underscore the importance of addressing gender disparities in income, particularly among individuals with lower levels of education.\n"
   ]
  },
  {
   "cell_type": "markdown",
   "id": "b42999f9-311f-481e-ae63-40a5577072c5",
   "metadata": {
    "id": "b42999f9-311f-481e-ae63-40a5577072c5"
   },
   "source": [
    "## Bonus"
   ]
  },
  {
   "cell_type": "markdown",
   "id": "81ff02c5-6584-4f21-a358-b918697c6432",
   "metadata": {
    "id": "81ff02c5-6584-4f21-a358-b918697c6432"
   },
   "source": [
    "5. The marketing team wants to analyze the number of policies sold by state and month. Present the data in a table where the months are arranged as columns and the states are arranged as rows."
   ]
  },
  {
   "cell_type": "markdown",
   "id": "b6aec097-c633-4017-a125-e77a97259cda",
   "metadata": {
    "id": "b6aec097-c633-4017-a125-e77a97259cda"
   },
   "source": [
    "6.  Display a new DataFrame that contains the number of policies sold by month, by state, for the top 3 states with the highest number of policies sold.\n",
    "\n",
    "*Hint:*\n",
    "- *To accomplish this, you will first need to group the data by state and month, then count the number of policies sold for each group. Afterwards, you will need to sort the data by the count of policies sold in descending order.*\n",
    "- *Next, you will select the top 3 states with the highest number of policies sold.*\n",
    "- *Finally, you will create a new DataFrame that contains the number of policies sold by month for each of the top 3 states.*"
   ]
  },
  {
   "cell_type": "markdown",
   "id": "ba975b8a-a2cf-4fbf-9f59-ebc381767009",
   "metadata": {
    "id": "ba975b8a-a2cf-4fbf-9f59-ebc381767009"
   },
   "source": [
    "7. The marketing team wants to analyze the effect of different marketing channels on the customer response rate.\n",
    "\n",
    "Hint: You can use melt to unpivot the data and create a table that shows the customer response rate (those who responded \"Yes\") by marketing channel."
   ]
  },
  {
   "cell_type": "markdown",
   "id": "e4378d94-48fb-4850-a802-b1bc8f427b2d",
   "metadata": {
    "id": "e4378d94-48fb-4850-a802-b1bc8f427b2d"
   },
   "source": [
    "External Resources for Data Filtering: https://towardsdatascience.com/filtering-data-frames-in-pandas-b570b1f834b9"
   ]
  },
  {
   "cell_type": "code",
   "execution_count": null,
   "id": "259fb7e4-9bde-4e40-afc4-f5b57b10195e",
   "metadata": {},
   "outputs": [],
   "source": []
  }
 ],
 "metadata": {
  "colab": {
   "provenance": []
  },
  "kernelspec": {
   "display_name": "Python 3 (ipykernel)",
   "language": "python",
   "name": "python3"
  },
  "language_info": {
   "codemirror_mode": {
    "name": "ipython",
    "version": 3
   },
   "file_extension": ".py",
   "mimetype": "text/x-python",
   "name": "python",
   "nbconvert_exporter": "python",
   "pygments_lexer": "ipython3",
   "version": "3.11.7"
  }
 },
 "nbformat": 4,
 "nbformat_minor": 5
}
